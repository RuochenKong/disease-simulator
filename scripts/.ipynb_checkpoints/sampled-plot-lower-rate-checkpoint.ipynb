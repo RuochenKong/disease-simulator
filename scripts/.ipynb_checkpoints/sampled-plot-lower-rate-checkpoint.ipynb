{
 "cells": [
  {
   "cell_type": "code",
   "execution_count": 1,
   "id": "f9daa5e8",
   "metadata": {},
   "outputs": [],
   "source": [
    "import numpy as np\n",
    "import pandas as pd\n",
    "\n",
    "def neighbor_joining(df):\n",
    "    # Convert the DataFrame to a numpy matrix\n",
    "    dist_matrix = df.to_numpy()\n",
    "    taxa = list(df.index)\n",
    "    tree = {}\n",
    "\n",
    "    while len(taxa) > 2:\n",
    "        n = len(taxa)\n",
    "        Q_matrix = np.zeros((n, n))\n",
    "        print(n)\n",
    "        \n",
    "        # Compute the Q matrix\n",
    "        sumi = [np.sum(dist_matrix[i]) for i in range(n)]\n",
    "        \n",
    "        for i in range(n):\n",
    "            for j in range(n):\n",
    "                if i != j:\n",
    "                    Q_matrix[i][j] = (n - 2) * dist_matrix[i][j] - sumi[i] - sumi[j]\n",
    "        \n",
    "        # Find the pair with the smallest Q value\n",
    "        min_i, min_j = np.unravel_index(np.argmin(Q_matrix), Q_matrix.shape)\n",
    "        \n",
    "        # Compute the distance to the new node\n",
    "        new_dist = (dist_matrix[min_i][min_j] +  (sumi[min_i] - sumi[min_j]) / (n - 2)) / 2\n",
    "        \n",
    "        # Update the tree\n",
    "        new_node = taxa[min_i] + '.' + taxa[min_j]\n",
    "        tree[new_node] = {taxa[min_i]: new_dist,\n",
    "                          taxa[min_j]: dist_matrix[min_i][min_j] - new_dist}\n",
    "        \n",
    "        # Update the distance matrix\n",
    "        new_row = [(dist_matrix[min_i][k] + dist_matrix[min_j][k] - dist_matrix[min_i][min_j]) / 2 for k in range(n) if k != min_i and k != min_j]\n",
    "        new_dist_matrix = np.delete(dist_matrix, [min_i, min_j], axis=0)\n",
    "        new_dist_matrix = np.delete(new_dist_matrix, [min_i, min_j], axis=1)\n",
    "        new_dist_matrix = np.vstack((new_dist_matrix, new_row))\n",
    "        new_row.append(0)\n",
    "        new_dist_matrix = np.column_stack((new_dist_matrix, new_row))\n",
    "        \n",
    "        # Update the taxa list\n",
    "        new_taxa = taxa[:]\n",
    "        new_taxa.remove(taxa[min_i])\n",
    "        new_taxa.remove(taxa[min_j])\n",
    "        new_taxa.append(new_node)\n",
    "        \n",
    "        # Update the distance matrix and taxa list\n",
    "        dist_matrix = new_dist_matrix\n",
    "        taxa = new_taxa\n",
    "        \n",
    "    # Connect the final two nodes\n",
    "    tree[taxa[1]][taxa[0]] = dist_matrix[0, 1]\n",
    "    \n",
    "    return tree"
   ]
  },
  {
   "cell_type": "code",
   "execution_count": 2,
   "id": "007bdde0",
   "metadata": {},
   "outputs": [],
   "source": [
    "sufix = '-v3'\n",
    "RAW_PATH = '../examples/logs/phylo%s/DiseasePhyloReports.tsv'%sufix\n",
    "raw_data = pd.read_csv(RAW_PATH, sep = \"\\t|,\", engine='python')\n",
    "infectious_data = raw_data[raw_data['diseaseStatus'] == 'Infectious'].reset_index()\n",
    "name = []\n",
    "for seq in infectious_data['diseaseSeq']:\n",
    "    name.append(seq.split('.')[-1])\n",
    "dm = np.load('dm-v3.npy')"
   ]
  },
  {
   "cell_type": "code",
   "execution_count": 3,
   "id": "30b4eb46",
   "metadata": {},
   "outputs": [
    {
     "name": "stdout",
     "output_type": "stream",
     "text": [
      "255\n"
     ]
    },
    {
     "ename": "NameError",
     "evalue": "name 'df' is not defined",
     "output_type": "error",
     "traceback": [
      "\u001b[1;31m---------------------------------------------------------------------------\u001b[0m",
      "\u001b[1;31mNameError\u001b[0m                                 Traceback (most recent call last)",
      "Cell \u001b[1;32mIn[3], line 10\u001b[0m\n\u001b[0;32m      8\u001b[0m     selected_names\u001b[38;5;241m.\u001b[39mappend(name\u001b[38;5;241m.\u001b[39msplit(\u001b[38;5;124m'\u001b[39m\u001b[38;5;124m.\u001b[39m\u001b[38;5;124m'\u001b[39m)[\u001b[38;5;241m-\u001b[39m\u001b[38;5;241m1\u001b[39m])\n\u001b[0;32m      9\u001b[0m \u001b[38;5;28mprint\u001b[39m(\u001b[38;5;28mlen\u001b[39m(selected_names))\n\u001b[1;32m---> 10\u001b[0m df \u001b[38;5;241m=\u001b[39m df[df\u001b[38;5;241m.\u001b[39mindex\u001b[38;5;241m.\u001b[39misin(selected_names)]\n\u001b[0;32m     11\u001b[0m df \u001b[38;5;241m=\u001b[39m df[selected_names]\n\u001b[0;32m     12\u001b[0m df\n",
      "\u001b[1;31mNameError\u001b[0m: name 'df' is not defined"
     ]
    }
   ],
   "source": [
    "# Randomly Select\n",
    "import random\n",
    "random.seed(0)\n",
    "selected_rows = [i for i in range(len(infectious_data)) if random.random()<0.05]\n",
    "selected_names = []\n",
    "for i in selected_rows:\n",
    "    name = infectious_data.iloc[i]['diseaseSeq']\n",
    "    selected_names.append(name.split('.')[-1])\n",
    "print(len(selected_names))\n",
    "df = df[df.index.isin(selected_names)]\n",
    "df = df[selected_names]\n",
    "df"
   ]
  },
  {
   "cell_type": "code",
   "execution_count": null,
   "id": "13597b59",
   "metadata": {},
   "outputs": [],
   "source": [
    "result_tree = neighbor_joining(df)\n",
    "np.save('sp-lr-treedict-v3.npy',result_tree)"
   ]
  },
  {
   "cell_type": "code",
   "execution_count": null,
   "id": "30c26fea",
   "metadata": {},
   "outputs": [],
   "source": [
    "from Bio import Phylo\n",
    "from Bio.Phylo import PhyloXML\n",
    "from Bio.Phylo.Newick import Tree, Clade\n",
    "\n",
    "def build_clade(node, tree_dict):\n",
    "    if node not in tree_dict:\n",
    "        return Clade(name=node)\n",
    "    \n",
    "    clade = Clade()\n",
    "    for child, distance in tree_dict[node].items():\n",
    "        child_clade = build_clade(child, tree_dict)\n",
    "        child_clade.branch_length = distance\n",
    "        clade.clades.append(child_clade)\n",
    "    \n",
    "    return clade\n",
    "\n",
    "tree_dict = result_tree\n",
    "root = list(tree_dict.keys())[-1]\n",
    "root_clade = build_clade(root, tree_dict)\n",
    "tree = Tree(root=root_clade)"
   ]
  },
  {
   "cell_type": "code",
   "execution_count": null,
   "id": "33a1d872",
   "metadata": {},
   "outputs": [],
   "source": [
    "phyloxml_tree = PhyloXML.Phylogeny.from_tree(tree)\n",
    "Phylo.write([phyloxml_tree], 'sp-lr-tree.xml', 'phyloxml')"
   ]
  },
  {
   "cell_type": "code",
   "execution_count": null,
   "id": "9ef29e0b",
   "metadata": {},
   "outputs": [],
   "source": [
    "import matplotlib\n",
    "import matplotlib.pyplot as plt\n",
    "matplotlib.rcParams['lines.linewidth'] = 0.5\n",
    "matplotlib.rcParams['font.size'] = 2\n",
    "fig,ax = plt.subplots(1,figsize=(10, 30))\n",
    "Phylo.draw(tree, axes = ax, do_show=False)\n",
    "plt.savefig(\"sp-lr-phylo-v3.pdf\", format=\"pdf\",bbox_inches=\"tight\")"
   ]
  },
  {
   "cell_type": "code",
   "execution_count": null,
   "id": "5db4016a",
   "metadata": {},
   "outputs": [],
   "source": [
    "# Biased Sample\n",
    "name = []\n",
    "for seq in infectious_data['diseaseSeq']:\n",
    "    name.append(seq.split('.')[-1])\n",
    "dm = np.load('dm-v3.npy')\n",
    "df = pd.DataFrame(data = dm, index=name, columns=name)\n",
    "\n",
    "bias_sp_data = infectious_data[infectious_data['Reported']].reset_index()\n",
    "selected_names = [seq.split('.')[-1] for seq in bias_sp_data['diseaseSeq'] if random.random() < 0.1]\n",
    "df = df[df.index.isin(selected_names)]\n",
    "df = df[selected_names]\n",
    "df"
   ]
  },
  {
   "cell_type": "code",
   "execution_count": null,
   "id": "ae488977",
   "metadata": {},
   "outputs": [],
   "source": [
    "result_tree = neighbor_joining(df)\n",
    "np.save('b-sp-lr-treedict-v3.npy',result_tree)"
   ]
  },
  {
   "cell_type": "code",
   "execution_count": null,
   "id": "e8af3da9",
   "metadata": {},
   "outputs": [],
   "source": [
    "tree_dict = result_tree\n",
    "root = list(tree_dict.keys())[-1]\n",
    "root_clade = build_clade(root, tree_dict)\n",
    "tree = Tree(root=root_clade)\n",
    "phyloxml_tree = PhyloXML.Phylogeny.from_tree(tree)\n",
    "Phylo.write([phyloxml_tree], 'b-sp-lr-tree.xml', 'phyloxml')"
   ]
  },
  {
   "cell_type": "code",
   "execution_count": null,
   "id": "0f0fa9f8",
   "metadata": {},
   "outputs": [],
   "source": [
    "fig,ax = plt.subplots(1,figsize=(10, 30))\n",
    "Phylo.draw(tree, axes = ax, do_show=False)\n",
    "plt.savefig(\"b-sp-lr-phylo-v3.pdf\", format=\"pdf\",bbox_inches=\"tight\")"
   ]
  },
  {
   "cell_type": "code",
   "execution_count": null,
   "id": "45aad4c2",
   "metadata": {},
   "outputs": [],
   "source": []
  }
 ],
 "metadata": {
  "kernelspec": {
   "display_name": "geoEnv",
   "language": "python",
   "name": "geoenv"
  },
  "language_info": {
   "codemirror_mode": {
    "name": "ipython",
    "version": 3
   },
   "file_extension": ".py",
   "mimetype": "text/x-python",
   "name": "python",
   "nbconvert_exporter": "python",
   "pygments_lexer": "ipython3",
   "version": "3.12.2"
  }
 },
 "nbformat": 4,
 "nbformat_minor": 5
}
