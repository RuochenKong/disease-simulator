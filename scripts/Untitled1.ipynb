{
 "cells": [
  {
   "cell_type": "code",
   "execution_count": 1,
   "id": "401229b4",
   "metadata": {},
   "outputs": [],
   "source": [
    "import Bio.Phylo.TreeConstruction as tc"
   ]
  },
  {
   "cell_type": "code",
   "execution_count": 2,
   "id": "10eed74c",
   "metadata": {},
   "outputs": [],
   "source": [
    "dm = tc.DistanceMatrix(names = ['Arbo','Barb','Hirs','Aust','Darw','Tomen','Stur','Tril'], \n",
    "                       matrix = [[0], [0.14,0], [1.15,1.16,0],[0.14,0,1.16,0],\n",
    "                                 [1.78,1.77,1.81,1.77,0],[2.03,2.02,2.02,2.02,0.51,0],\n",
    "                                 [1.81,1.82,1.83,1.82,0.76,0.97,0],\n",
    "                                 [1.91,1.92,1.95,1.92,0.78,0.74,0.71,0]])"
   ]
  },
  {
   "cell_type": "code",
   "execution_count": 3,
   "id": "5c633c40",
   "metadata": {},
   "outputs": [
    {
     "data": {
      "text/plain": [
       "DistanceMatrix(names=['Arbo', 'Barb', 'Hirs', 'Aust', 'Darw', 'Tomen', 'Stur', 'Tril'], matrix=[[0], [0.14, 0], [1.15, 1.16, 0], [0.14, 0, 1.16, 0], [1.78, 1.77, 1.81, 1.77, 0], [2.03, 2.02, 2.02, 2.02, 0.51, 0], [1.81, 1.82, 1.83, 1.82, 0.76, 0.97, 0], [1.91, 1.92, 1.95, 1.92, 0.78, 0.74, 0.71, 0]])"
      ]
     },
     "execution_count": 3,
     "metadata": {},
     "output_type": "execute_result"
    }
   ],
   "source": [
    "dm"
   ]
  },
  {
   "cell_type": "code",
   "execution_count": 4,
   "id": "f84f2354",
   "metadata": {},
   "outputs": [],
   "source": [
    "from Bio.Phylo.TreeConstruction import DistanceTreeConstructor"
   ]
  },
  {
   "cell_type": "code",
   "execution_count": 5,
   "id": "b4f623ee",
   "metadata": {},
   "outputs": [
    {
     "name": "stdout",
     "output_type": "stream",
     "text": [
      "Tree(rooted=True)\n",
      "    Clade(branch_length=0, name='Inner7')\n",
      "        Clade(branch_length=0.59125, name='Inner5')\n",
      "            Clade(branch_length=0.05125000000000002, name='Inner4')\n",
      "                Clade(branch_length=0.355, name='Tril')\n",
      "                Clade(branch_length=0.355, name='Stur')\n",
      "            Clade(branch_length=0.15125, name='Inner3')\n",
      "                Clade(branch_length=0.255, name='Tomen')\n",
      "                Clade(branch_length=0.255, name='Darw')\n",
      "        Clade(branch_length=0.36875000000000013, name='Inner6')\n",
      "            Clade(branch_length=0.5774999999999999, name='Hirs')\n",
      "            Clade(branch_length=0.5074999999999998, name='Inner2')\n",
      "                Clade(branch_length=0.07, name='Inner1')\n",
      "                    Clade(branch_length=0.0, name='Aust')\n",
      "                    Clade(branch_length=0.0, name='Barb')\n",
      "                Clade(branch_length=0.07, name='Arbo')\n"
     ]
    }
   ],
   "source": [
    "constructor = DistanceTreeConstructor()\n",
    "upgmatree = constructor.upgma(dm)\n",
    "print(upgmatree)"
   ]
  },
  {
   "cell_type": "code",
   "execution_count": 6,
   "id": "2e045136",
   "metadata": {},
   "outputs": [],
   "source": [
    "from Bio import Phylo"
   ]
  },
  {
   "cell_type": "code",
   "execution_count": 7,
   "id": "2c42e57d",
   "metadata": {},
   "outputs": [
    {
     "name": "stdout",
     "output_type": "stream",
     "text": [
      "                                               _________________________ Tril\n",
      "                                            __|\n",
      "                                           |  |_________________________ Stur\n",
      "  _________________________________________|\n",
      " |                                         |          __________________ Tomen\n",
      " |                                         |_________|\n",
      "_|                                                   |__________________ Darw\n",
      " |\n",
      " |                          ________________________________________ Hirs\n",
      " |                         |\n",
      " |_________________________|                                        , Aust\n",
      "                           |                                    ____|\n",
      "                           |___________________________________|    | Barb\n",
      "                                                               |\n",
      "                                                               |____ Arbo\n",
      "\n"
     ]
    }
   ],
   "source": [
    "Phylo.draw_ascii(upgmatree)"
   ]
  },
  {
   "cell_type": "code",
   "execution_count": 8,
   "id": "803a2b9e",
   "metadata": {},
   "outputs": [
    {
     "name": "stdout",
     "output_type": "stream",
     "text": [
      "    _______________ Stur\n",
      "   |\n",
      "  _|                                                                ___ Arbo\n",
      " | |                                          _____________________|\n",
      " | |                                         |                     |   , Aust\n",
      " | |_________________________________________|                     |___|\n",
      " |                                           |                         | Barb\n",
      " |                                           |\n",
      "_|                                           |__________________________ Hirs\n",
      " |\n",
      " |       _____________ Tomen\n",
      " |______|\n",
      " |      |_______ Darw\n",
      " |\n",
      " |______________ Tril\n",
      "\n"
     ]
    }
   ],
   "source": [
    "njtree = constructor.nj(dm)\n",
    "Phylo.draw_ascii(njtree)"
   ]
  },
  {
   "cell_type": "code",
   "execution_count": 9,
   "id": "0dd6c834",
   "metadata": {},
   "outputs": [],
   "source": [
    "def get_label(leaf):\n",
    "    return leaf.name"
   ]
  },
  {
   "cell_type": "code",
   "execution_count": 12,
   "id": "1545c8e5",
   "metadata": {},
   "outputs": [
    {
     "data": {
      "text/plain": [
       "(-0.049875, 1.2468750000000002, 8.8, 0.2)"
      ]
     },
     "execution_count": 12,
     "metadata": {},
     "output_type": "execute_result"
    },
    {
     "data": {
      "image/png": "[encoded data removed]",
      "text/plain": [
       "<Figure size 640x480 with 1 Axes>"
      ]
     },
     "metadata": {},
     "output_type": "display_data"
    }
   ],
   "source": [
    "import matplotlib.pyplot as plt\n",
    "Phylo.draw(upgmatree, label_func=get_label, do_show=False)\n",
    "plt.axis('off')\n"
   ]
  },
  {
   "cell_type": "code",
   "execution_count": 15,
   "id": "24531649",
   "metadata": {},
   "outputs": [
    {
     "data": {
      "image/png": "[encoded data removed]",
      "text/plain": [
       "<Figure size 640x480 with 1 Axes>"
      ]
     },
     "metadata": {},
     "output_type": "display_data"
    }
   ],
   "source": [
    "Phylo.draw(njtree)"
   ]
  },
  {
   "cell_type": "code",
   "execution_count": 16,
   "id": "549bb2c6",
   "metadata": {},
   "outputs": [
    {
     "name": "stdout",
     "output_type": "stream",
     "text": [
      "Tree(rooted=False)\n",
      "    Clade(branch_length=0, name='Inner6')\n",
      "        Clade(branch_length=0.06249999999999983, name='Inner5')\n",
      "            Clade(branch_length=0.345, name='Stur')\n",
      "            Clade(branch_length=0.9000000000000001, name='Inner3')\n",
      "                Clade(branch_length=0.49749999999999983, name='Inner2')\n",
      "                    Clade(branch_length=0.06899999999999995, name='Arbo')\n",
      "                    Clade(branch_length=0.07100000000000006, name='Inner1')\n",
      "                        Clade(branch_length=0.0, name='Aust')\n",
      "                        Clade(branch_length=0.0, name='Barb')\n",
      "                Clade(branch_length=0.5874999999999999, name='Hirs')\n",
      "        Clade(branch_length=0.15749999999999992, name='Inner4')\n",
      "            Clade(branch_length=0.32166666666666677, name='Tomen')\n",
      "            Clade(branch_length=0.18833333333333324, name='Darw')\n",
      "        Clade(branch_length=0.3475000000000001, name='Tril')\n"
     ]
    }
   ],
   "source": [
    "print(njtree)"
   ]
  },
  {
   "cell_type": "code",
   "execution_count": 17,
   "id": "5a894237",
   "metadata": {},
   "outputs": [
    {
     "data": {
      "text/plain": [
       "<bound method Tree.as_phyloxml of Tree(rooted=False)>"
      ]
     },
     "execution_count": 17,
     "metadata": {},
     "output_type": "execute_result"
    }
   ],
   "source": [
    "njtree.as_phyloxml"
   ]
  },
  {
   "cell_type": "code",
   "execution_count": 18,
   "id": "affc4fb8",
   "metadata": {},
   "outputs": [
    {
     "data": {
      "text/plain": [
       "1"
      ]
     },
     "execution_count": 18,
     "metadata": {},
     "output_type": "execute_result"
    }
   ],
   "source": [
    "Phylo.write(njtree,'test.xml','phyloxml')"
   ]
  },
  {
   "cell_type": "code",
   "execution_count": null,
   "id": "276f965d",
   "metadata": {},
   "outputs": [],
   "source": []
  }
 ],
 "metadata": {
  "kernelspec": {
   "display_name": "geoEnv",
   "language": "python",
   "name": "geoenv"
  },
  "language_info": {
   "codemirror_mode": {
    "name": "ipython",
    "version": 3
   },
   "file_extension": ".py",
   "mimetype": "text/x-python",
   "name": "python",
   "nbconvert_exporter": "python",
   "pygments_lexer": "ipython3",
   "version": "3.12.2"
  }
 },
 "nbformat": 4,
 "nbformat_minor": 5
}
