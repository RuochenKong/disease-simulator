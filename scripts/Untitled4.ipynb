{
 "cells": [
  {
   "cell_type": "code",
   "execution_count": 1,
   "id": "d5429d82",
   "metadata": {},
   "outputs": [],
   "source": [
    "tree = {\n",
    "    '1-1.2-1': {'1-1': 0.1, '2-1': 0.2},\n",
    "    '1-1.2-1.3-1': {'3-1': 0.3, '1-1.2-1': 0.4},\n",
    "    '4-1.5-1': {'4-1': 0.5,'5-1':0.5},\n",
    "    '1-1.2-1.3-1.4-1.5-1': {'1-1.2-1.3-1':0.3,'4-1.5-1':0.7}\n",
    "}\n"
   ]
  },
  {
   "cell_type": "code",
   "execution_count": 2,
   "id": "f4f6acde",
   "metadata": {},
   "outputs": [
    {
     "name": "stdout",
     "output_type": "stream",
     "text": [
      "((3-1:0.3,(1-1:0.1,2-1:0.2):0.4):0.3,(4-1:0.5,5-1:0.5):0.7);\n"
     ]
    }
   ],
   "source": [
    "def dict_to_newick(tree):\n",
    "    def build_newick(node):\n",
    "        children = tree.get(node, {})\n",
    "        if children:\n",
    "            subtree = \",\".join(f\"{build_newick(child)}:{distance}\" for child, distance in children.items())\n",
    "            return f\"({subtree})\"\n",
    "        else:\n",
    "            return node\n",
    "    \n",
    "    # Find the root\n",
    "    all_nodes = set(tree.keys())\n",
    "    all_children = set(child for children in tree.values() for child in children)\n",
    "    root = list(all_nodes - all_children)[0]\n",
    "    \n",
    "    return build_newick(root) + \";\"\n",
    "\n",
    "tree = {\n",
    "    '1-1.2-1': {'1-1': 0.1, '2-1': 0.2},\n",
    "    '1-1.2-1.3-1': {'3-1': 0.3, '1-1.2-1': 0.4},\n",
    "    '4-1.5-1': {'4-1': 0.5, '5-1': 0.5},\n",
    "    '1-1.2-1.3-1.4-1.5-1': {'1-1.2-1.3-1': 0.3, '4-1.5-1': 0.7}\n",
    "}\n",
    "\n",
    "newick_string = dict_to_newick(tree)\n",
    "print(newick_string)\n"
   ]
  },
  {
   "cell_type": "code",
   "execution_count": 3,
   "id": "0bd27f68",
   "metadata": {},
   "outputs": [],
   "source": [
    "f = open('test.newick','w')\n",
    "f.write(dict_to_newick(tree))\n",
    "f.close()"
   ]
  },
  {
   "cell_type": "code",
   "execution_count": null,
   "id": "de231043",
   "metadata": {},
   "outputs": [],
   "source": []
  }
 ],
 "metadata": {
  "kernelspec": {
   "display_name": "Python 3 (ipykernel)",
   "language": "python",
   "name": "python3"
  },
  "language_info": {
   "codemirror_mode": {
    "name": "ipython",
    "version": 3
   },
   "file_extension": ".py",
   "mimetype": "text/x-python",
   "name": "python",
   "nbconvert_exporter": "python",
   "pygments_lexer": "ipython3",
   "version": "3.9.7"
  }
 },
 "nbformat": 4,
 "nbformat_minor": 5
}
