{
 "cells": [
  {
   "cell_type": "code",
   "execution_count": 1,
   "id": "8eb43fff",
   "metadata": {},
   "outputs": [],
   "source": [
    "import numpy as np\n",
    "import pandas as pd"
   ]
  },
  {
   "cell_type": "code",
   "execution_count": 2,
   "id": "4540d711",
   "metadata": {},
   "outputs": [],
   "source": [
    "Z = np.load(\"nj-v3.npy\")"
   ]
  },
  {
   "cell_type": "code",
   "execution_count": 3,
   "id": "c5767d2f",
   "metadata": {},
   "outputs": [
    {
     "data": {
      "text/plain": [
       "array([[4.43800000e+03, 4.44300000e+03, 7.14285714e-02, 2.00000000e+00],\n",
       "       [4.43700000e+03, 4.44200000e+03, 7.14285714e-02, 2.00000000e+00],\n",
       "       [4.42300000e+03, 4.43900000e+03, 7.69230769e-02, 2.00000000e+00],\n",
       "       ...,\n",
       "       [8.88200000e+03, 8.88700000e+03, 1.00000000e+00, 8.34000000e+02],\n",
       "       [8.88500000e+03, 8.88800000e+03, 1.00000000e+00, 1.44200000e+03],\n",
       "       [8.88600000e+03, 8.88900000e+03, 1.00000000e+00, 4.44600000e+03]])"
      ]
     },
     "execution_count": 3,
     "metadata": {},
     "output_type": "execute_result"
    }
   ],
   "source": [
    "Z"
   ]
  },
  {
   "cell_type": "code",
   "execution_count": 4,
   "id": "12c6a858",
   "metadata": {},
   "outputs": [
    {
     "data": {
      "text/plain": [
       "(4445, 4)"
      ]
     },
     "execution_count": 4,
     "metadata": {},
     "output_type": "execute_result"
    }
   ],
   "source": [
    "Z.shape"
   ]
  },
  {
   "cell_type": "code",
   "execution_count": 14,
   "id": "c8413ffa",
   "metadata": {},
   "outputs": [],
   "source": [
    "from scipy.spatial.distance import squareform\n",
    "from scipy.cluster.hierarchy import linkage, dendrogram\n",
    "import matplotlib.pyplot as plt\n",
    "\n",
    "# Function to perform neighbor-joining\n",
    "def neighbor_joining(df):\n",
    "    # Convert the DataFrame to a numpy matrix\n",
    "    dist_matrix = df.to_numpy()\n",
    "    taxa = list(df.index)\n",
    "\n",
    "    while len(taxa) > 2:\n",
    "        n = len(taxa)\n",
    "        print(n)\n",
    "        Q_matrix = np.zeros((n, n))\n",
    "        \n",
    "        # Compute the Q matrix\n",
    "        sumi = [np.sum(dist_matrix[i]) for i in range(n)]\n",
    "        \n",
    "        for i in range(n):\n",
    "            for j in range(n):\n",
    "                if i != j:\n",
    "                    Q_matrix[i][j] = (n - 2) * dist_matrix[i][j] - sumi[i] - sumi[j]\n",
    "        print(Q_matrix)\n",
    "        \n",
    "        # Find the pair with the smallest Q value\n",
    "        min_i, min_j = np.unravel_index(np.argmin(Q_matrix), Q_matrix.shape)\n",
    "        \n",
    "        # Compute the distance to the new node\n",
    "        new_dist = (dist_matrix[min_i][min_j] + \n",
    "                    (sumi[min_i] - sumi[min_j]) / (n - 2)) / 2\n",
    "        \n",
    "        # Update the distance matrix\n",
    "        new_row = [(dist_matrix[min_i][k] + dist_matrix[min_j][k] - dist_matrix[min_i][min_j]) / 2 for k in range(n) if k != min_i and k != min_j]\n",
    "        new_dist_matrix = np.delete(dist_matrix, [min_i, min_j], axis=0)\n",
    "        new_dist_matrix = np.delete(new_dist_matrix, [min_i, min_j], axis=1)\n",
    "        new_dist_matrix = np.vstack((new_dist_matrix, new_row))\n",
    "        new_row.append(0)\n",
    "        new_dist_matrix = np.column_stack((new_dist_matrix, new_row))\n",
    "        \n",
    "        # Update the taxa list\n",
    "        new_taxa = taxa[:]\n",
    "        new_taxa.remove(taxa[min_i])\n",
    "        new_taxa.remove(taxa[min_j])\n",
    "        new_taxa.append(taxa[min_i] + taxa[min_j])\n",
    "        \n",
    "        # Update the distance matrix and taxa list\n",
    "        dist_matrix = new_dist_matrix\n",
    "        taxa = new_taxa\n",
    "        \n",
    "        print(dist_matrix)\n",
    "        print(taxa)\n",
    "    # Create the final linkage matrix for dendrogram plotting\n",
    "    Z = linkage(squareform(df.to_numpy()), method='average')\n",
    "    return Z"
   ]
  },
  {
   "cell_type": "code",
   "execution_count": 15,
   "id": "38bb6b4e",
   "metadata": {},
   "outputs": [
    {
     "name": "stdout",
     "output_type": "stream",
     "text": [
      "5\n",
      "[[  0. -50. -38. -34. -34.]\n",
      " [-50.   0. -38. -34. -34.]\n",
      " [-38. -38.   0. -40. -40.]\n",
      " [-34. -34. -40.   0. -48.]\n",
      " [-34. -34. -40. -48.   0.]]\n",
      "[[0. 8. 7. 7.]\n",
      " [8. 0. 3. 7.]\n",
      " [7. 3. 0. 6.]\n",
      " [7. 7. 6. 0.]]\n",
      "['c', 'd', 'e', 'ab']\n",
      "4\n",
      "[[  0. -24. -24. -28.]\n",
      " [-24.   0. -28. -24.]\n",
      " [-24. -28.   0. -24.]\n",
      " [-28. -24. -24.   0.]]\n",
      "[[0. 3. 4.]\n",
      " [3. 0. 3.]\n",
      " [4. 3. 0.]]\n",
      "['d', 'e', 'cab']\n",
      "3\n",
      "[[  0. -10. -10.]\n",
      " [-10.   0. -10.]\n",
      " [-10. -10.   0.]]\n",
      "[[0. 2.]\n",
      " [2. 0.]]\n",
      "['cab', 'de']\n"
     ]
    }
   ],
   "source": [
    "dm = np.array([[0,5,9,9,8],\n",
    "               [5,0,10,10,9],\n",
    "               [9,10,0,8,7],\n",
    "               [9,10,8,0,3],\n",
    "               [8,9,7,3,0]])\n",
    "name = ['a','b','c','d','e']\n",
    "\n",
    "df = pd.DataFrame(data = dm, index=name, columns=name)\n",
    "Z = neighbor_joining(df)"
   ]
  },
  {
   "cell_type": "code",
   "execution_count": 16,
   "id": "3d3c823f",
   "metadata": {},
   "outputs": [
    {
     "data": {
      "text/plain": [
       "{'icoord': [[5.0, 5.0, 15.0, 15.0],\n",
       "  [35.0, 35.0, 45.0, 45.0],\n",
       "  [25.0, 25.0, 40.0, 40.0],\n",
       "  [10.0, 10.0, 32.5, 32.5]],\n",
       " 'dcoord': [[0.0, 5.0, 5.0, 0.0],\n",
       "  [0.0, 3.0, 3.0, 0.0],\n",
       "  [0.0, 7.5, 7.5, 3.0],\n",
       "  [5.0, 9.166666666666666, 9.166666666666666, 7.5]],\n",
       " 'ivl': ['a', 'b', 'c', 'd', 'e'],\n",
       " 'leaves': [0, 1, 2, 3, 4],\n",
       " 'color_list': ['C1', 'C2', 'C0', 'C0'],\n",
       " 'leaves_color_list': ['C1', 'C1', 'C0', 'C2', 'C2']}"
      ]
     },
     "execution_count": 16,
     "metadata": {},
     "output_type": "execute_result"
    },
    {
     "data": {
      "image/png": "[encoded data removed]",
      "text/plain": [
       "<Figure size 640x480 with 1 Axes>"
      ]
     },
     "metadata": {},
     "output_type": "display_data"
    }
   ],
   "source": [
    "Z = linkage(squareform(df.to_numpy()), method='average')\n",
    "dendrogram(Z, labels=df.index, orientation='left')"
   ]
  },
  {
   "cell_type": "code",
   "execution_count": 2,
   "id": "4153c598",
   "metadata": {},
   "outputs": [
    {
     "name": "stdout",
     "output_type": "stream",
     "text": [
      "{'AB': {'A': 2.0, 'B': 3.0}}\n",
      "{'AB': {'A': 2.0, 'B': 3.0}, 'CAB': {'C': 4.0, 'AB': 3.0}}\n",
      "{'AB': {'A': 2.0, 'B': 3.0}, 'CAB': {'C': 4.0, 'AB': 3.0}, 'DE': {'D': 2.0, 'E': 1.0}}\n",
      "{'AB': {'A': 2.0, 'B': 3.0}, 'CAB': {'C': 4.0, 'AB': 3.0}, 'DE': {'D': 2.0, 'E': 1.0, 'CAB': 2.0}}\n"
     ]
    }
   ],
   "source": [
    "def neighbor_joining(df):\n",
    "    # Convert the DataFrame to a numpy matrix\n",
    "    dist_matrix = df.to_numpy()\n",
    "    taxa = list(df.index)\n",
    "    tree = {}\n",
    "\n",
    "    while len(taxa) > 2:\n",
    "        n = len(taxa)\n",
    "        Q_matrix = np.zeros((n, n))\n",
    "        \n",
    "        # Compute the Q matrix\n",
    "        sumi = [np.sum(dist_matrix[i]) for i in range(n)]\n",
    "        \n",
    "        for i in range(n):\n",
    "            for j in range(n):\n",
    "                if i != j:\n",
    "                    Q_matrix[i][j] = (n - 2) * dist_matrix[i][j] - sumi[i] - sumi[j]\n",
    "        \n",
    "        # Find the pair with the smallest Q value\n",
    "        min_i, min_j = np.unravel_index(np.argmin(Q_matrix), Q_matrix.shape)\n",
    "        \n",
    "        # Compute the distance to the new node\n",
    "        new_dist = (dist_matrix[min_i][min_j] +  (sumi[min_i] - sumi[min_j]) / (n - 2)) / 2\n",
    "        \n",
    "        # Update the tree\n",
    "        new_node = taxa[min_i] + taxa[min_j]\n",
    "        tree[new_node] = {taxa[min_i]: new_dist,\n",
    "                          taxa[min_j]: dist_matrix[min_i][min_j] - new_dist}\n",
    "        \n",
    "        print(tree)\n",
    "        # Update the distance matrix\n",
    "        new_row = [(dist_matrix[min_i][k] + dist_matrix[min_j][k] - dist_matrix[min_i][min_j]) / 2 for k in range(n) if k != min_i and k != min_j]\n",
    "        new_dist_matrix = np.delete(dist_matrix, [min_i, min_j], axis=0)\n",
    "        new_dist_matrix = np.delete(new_dist_matrix, [min_i, min_j], axis=1)\n",
    "        new_dist_matrix = np.vstack((new_dist_matrix, new_row))\n",
    "        new_row.append(0)\n",
    "        new_dist_matrix = np.column_stack((new_dist_matrix, new_row))\n",
    "        \n",
    "        # Update the taxa list\n",
    "        new_taxa = taxa[:]\n",
    "        new_taxa.remove(taxa[min_i])\n",
    "        new_taxa.remove(taxa[min_j])\n",
    "        new_taxa.append(new_node)\n",
    "        \n",
    "        # Update the distance matrix and taxa list\n",
    "        dist_matrix = new_dist_matrix\n",
    "        taxa = new_taxa\n",
    "        \n",
    "    # Add the final two nodes to the tree\n",
    "    #tree[taxa[0]] = {taxa[1]: dist_matrix[0, 1]}\n",
    "    tree[taxa[1]][taxa[0]] = dist_matrix[0, 1]\n",
    "    \n",
    "    return tree\n",
    "\n",
    "# Example usage\n",
    "import pandas as pd\n",
    "\n",
    "# Define the distance matrix as a DataFrame\n",
    "dm = np.array([[0, 5, 9, 9, 8],\n",
    "               [5, 0, 10, 10, 9],\n",
    "               [9, 10, 0, 8, 7],\n",
    "               [9, 10, 8, 0, 3],\n",
    "               [8, 9, 7, 3, 0]])\n",
    "df = pd.DataFrame(dm, index=['A', 'B', 'C', 'D', 'E'], columns=['A', 'B', 'C', 'D', 'E'])\n",
    "\n",
    "# Run the neighbor joining algorithm\n",
    "result_tree = neighbor_joining(df)\n",
    "print(result_tree)\n"
   ]
  },
  {
   "cell_type": "code",
   "execution_count": 20,
   "id": "1dfd82fc",
   "metadata": {},
   "outputs": [
    {
     "name": "stdout",
     "output_type": "stream",
     "text": [
      "{'DE': {'D': 2.0, 'E': 1.0}}\n",
      "{'DE': {'D': 2.0, 'E': 1.0}, 'CDE': {'C': 4.0, 'DE': 2.0}}\n",
      "{'DE': {'D': 2.0, 'E': 1.0}, 'CDE': {'C': 4.0, 'DE': 2.0}, 'GH': {'G': 2.0, 'H': 3.0}}\n",
      "{'DE': {'D': 2.0, 'E': 1.0}, 'CDE': {'C': 4.0, 'DE': 2.0}, 'GH': {'G': 2.0, 'H': 3.0}, 'FGH': {'F': 1.3333333333333333, 'GH': 1.6666666666666667}}\n",
      "{'DE': {'D': 2.0, 'E': 1.0}, 'CDE': {'C': 4.0, 'DE': 2.0}, 'GH': {'G': 2.0, 'H': 3.0}, 'FGH': {'F': 1.3333333333333333, 'GH': 1.6666666666666667}, 'AB': {'A': 2.0, 'B': 3.0}}\n",
      "{'DE': {'D': 2.0, 'E': 1.0}, 'CDE': {'C': 4.0, 'DE': 2.0}, 'GH': {'G': 2.0, 'H': 3.0}, 'FGH': {'F': 1.3333333333333333, 'GH': 1.6666666666666667}, 'AB': {'A': 2.0, 'B': 3.0}, 'CDEFGH': {'CDE': 3.0, 'FGH': 4.0}}\n",
      "{'DE': {'D': 2.0, 'E': 1.0}, 'CDE': {'C': 4.0, 'DE': 2.0}, 'GH': {'G': 2.0, 'H': 3.0}, 'FGH': {'F': 1.3333333333333333, 'GH': 1.6666666666666667}, 'AB': {'A': 2.0, 'B': 3.0}, 'CDEFGH': {'CDE': 3.0, 'FGH': 4.0, 'AB': 0.0}}\n"
     ]
    }
   ],
   "source": [
    "species = ['A', 'B', 'C', 'D', 'E', 'F', 'G', 'H']\n",
    "distances = np.array([\n",
    "    [0, 5, 9, 9, 8, 7, 10, 11],\n",
    "    [5, 0, 10, 10, 9, 8, 11, 12],\n",
    "    [9, 10, 0, 8, 7, 13, 14, 15],\n",
    "    [9, 10, 8, 0, 3, 13, 14, 15],\n",
    "    [8, 9, 7, 3, 0, 12, 13, 14],\n",
    "    [7, 8, 13, 13, 12, 0, 5, 6],\n",
    "    [10, 11, 14, 14, 13, 5, 0, 5],\n",
    "    [11, 12, 15, 15, 14, 6, 5, 0]\n",
    "])\n",
    "\n",
    "df = pd.DataFrame(distances, index=species, columns=species)\n",
    "\n",
    "# Run the neighbor joining algorithm\n",
    "result_tree = neighbor_joining(df)\n",
    "print(result_tree)"
   ]
  },
  {
   "cell_type": "code",
   "execution_count": 24,
   "id": "5859839a",
   "metadata": {},
   "outputs": [
    {
     "data": {
      "image/png": "[encoded data removed]",
      "text/plain": [
       "<Figure size 640x480 with 1 Axes>"
      ]
     },
     "metadata": {},
     "output_type": "display_data"
    },
    {
     "name": "stdout",
     "output_type": "stream",
     "text": [
      "Tree saved to tree.xml\n"
     ]
    }
   ],
   "source": [
    "from Bio import Phylo\n",
    "from Bio.Phylo import PhyloXML\n",
    "from Bio.Phylo.Newick import Tree, Clade\n",
    "\n",
    "# Define the tree\n",
    "tree_dict = result_tree\n",
    "\n",
    "def build_clade(node, tree_dict):\n",
    "    if node not in tree_dict:\n",
    "        return Clade(name=node)\n",
    "    \n",
    "    clade = Clade()\n",
    "    for child, distance in tree_dict[node].items():\n",
    "        child_clade = build_clade(child, tree_dict)\n",
    "        child_clade.branch_length = distance\n",
    "        clade.clades.append(child_clade)\n",
    "    \n",
    "    return clade\n",
    "\n",
    "# Create the root clade starting from 'DE'\n",
    "root_clade = build_clade('CDEFGH', tree_dict)\n",
    "\n",
    "# Create a Tree object\n",
    "tree = Tree(root=root_clade)\n",
    "\n",
    "# Convert to PhyloXML\n",
    "phyloxml_tree = PhyloXML.Phylogeny.from_tree(tree)\n",
    "\n",
    "# Save the tree to a PhyloXML file\n",
    "Phylo.write([phyloxml_tree], 'tree.xml', 'phyloxml')\n",
    "Phylo.draw(tree)\n",
    "print('Tree saved to tree.xml')\n"
   ]
  },
  {
   "cell_type": "code",
   "execution_count": 17,
   "id": "2fd5f151",
   "metadata": {},
   "outputs": [
    {
     "name": "stdout",
     "output_type": "stream",
     "text": [
      "Tree saved to tree.xml\n"
     ]
    }
   ],
   "source": [
    "from Bio import Phylo\n",
    "from Bio.Phylo import PhyloXML\n",
    "from Bio.Phylo.Newick import Tree, Clade\n",
    "\n",
    "# Define the tree\n",
    "tree_dict = {\n",
    "    'AB': {'A': 2.0, 'B': 3.0},\n",
    "    'CAB': {'AB': 3.0, 'C': 4.0},\n",
    "    'DE': {'D': 2.0,  'CAB': 2.0, 'E': 1.0}\n",
    "}\n",
    "\n",
    "def build_clade(node, tree_dict):\n",
    "    if node not in tree_dict:\n",
    "        return Clade(name=node)\n",
    "    \n",
    "    clade = Clade()\n",
    "    for child, distance in tree_dict[node].items():\n",
    "        child_clade = build_clade(child, tree_dict)\n",
    "        child_clade.branch_length = distance\n",
    "        clade.clades.append(child_clade)\n",
    "    \n",
    "    return clade\n",
    "\n",
    "# Create the root clade starting from 'DE'\n",
    "root_clade = build_clade('DE', tree_dict)\n",
    "\n",
    "# Create a Tree object\n",
    "tree = Tree(root=root_clade)\n",
    "\n",
    "# Convert to PhyloXML\n",
    "phyloxml_tree = PhyloXML.Phylogeny.from_tree(tree)\n",
    "\n",
    "# Save the tree to a PhyloXML file\n",
    "Phylo.write([phyloxml_tree], 'tree.xml', 'phyloxml')\n",
    "\n",
    "print('Tree saved to tree.xml')\n"
   ]
  },
  {
   "cell_type": "code",
   "execution_count": 18,
   "id": "b5216ee4",
   "metadata": {},
   "outputs": [
    {
     "data": {
      "image/png": "[encoded data removed]",
      "text/plain": [
       "<Figure size 640x480 with 1 Axes>"
      ]
     },
     "metadata": {},
     "output_type": "display_data"
    }
   ],
   "source": [
    "Phylo.draw(tree)"
   ]
  },
  {
   "cell_type": "code",
   "execution_count": 10,
   "id": "61c69795",
   "metadata": {},
   "outputs": [],
   "source": [
    "np.save('test_save_dic.npy',tree_dict)"
   ]
  },
  {
   "cell_type": "code",
   "execution_count": 11,
   "id": "de730492",
   "metadata": {},
   "outputs": [],
   "source": [
    "read_dictionary = np.load('test_save_dic.npy',allow_pickle='TRUE').item()"
   ]
  },
  {
   "cell_type": "code",
   "execution_count": 12,
   "id": "57d12e54",
   "metadata": {},
   "outputs": [
    {
     "data": {
      "text/plain": [
       "{'AB': {'A': 2.0, 'B': 3.0},\n",
       " 'CAB': {'C': 4.0, 'AB': 3.0},\n",
       " 'DE': {'D': 2.0, 'E': 1.0, 'CAB': 2.0}}"
      ]
     },
     "execution_count": 12,
     "metadata": {},
     "output_type": "execute_result"
    }
   ],
   "source": [
    "read_dictionary"
   ]
  },
  {
   "cell_type": "code",
   "execution_count": null,
   "id": "c6810800",
   "metadata": {},
   "outputs": [],
   "source": []
  }
 ],
 "metadata": {
  "kernelspec": {
   "display_name": "geoEnv",
   "language": "python",
   "name": "geoenv"
  },
  "language_info": {
   "codemirror_mode": {
    "name": "ipython",
    "version": 3
   },
   "file_extension": ".py",
   "mimetype": "text/x-python",
   "name": "python",
   "nbconvert_exporter": "python",
   "pygments_lexer": "ipython3",
   "version": "3.12.2"
  }
 },
 "nbformat": 4,
 "nbformat_minor": 5
}
