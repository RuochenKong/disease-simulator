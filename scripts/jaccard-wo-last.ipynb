{
 "cells": [
  {
   "cell_type": "code",
   "execution_count": null,
   "id": "5242b217",
   "metadata": {},
   "outputs": [],
   "source": [
    "def neighbor_joining(df):\n",
    "    # Convert the DataFrame to a numpy matrix\n",
    "    dist_matrix = df.to_numpy()\n",
    "    taxa = list(df.index)\n",
    "    tree = {}\n",
    "\n",
    "    while len(taxa) > 2:\n",
    "        n = len(taxa)\n",
    "        Q_matrix = np.zeros((n, n))\n",
    "        print(n)\n",
    "        \n",
    "        # Compute the Q matrix\n",
    "        sumi = [np.sum(dist_matrix[i]) for i in range(n)]\n",
    "        \n",
    "        for i in range(n):\n",
    "            for j in range(n):\n",
    "                if i != j:\n",
    "                    Q_matrix[i][j] = (n - 2) * dist_matrix[i][j] - sumi[i] - sumi[j]\n",
    "        \n",
    "        # Find the pair with the smallest Q value\n",
    "        min_i, min_j = np.unravel_index(np.argmin(Q_matrix), Q_matrix.shape)\n",
    "        \n",
    "        # Compute the distance to the new node\n",
    "        new_dist = (dist_matrix[min_i][min_j] +  (sumi[min_i] - sumi[min_j]) / (n - 2)) / 2\n",
    "        \n",
    "        # Update the tree\n",
    "        new_node = taxa[min_i] + '.' + taxa[min_j]\n",
    "        tree[new_node] = {taxa[min_i]: new_dist,\n",
    "                          taxa[min_j]: dist_matrix[min_i][min_j] - new_dist}\n",
    "        \n",
    "        # Update the distance matrix\n",
    "        new_row = [(dist_matrix[min_i][k] + dist_matrix[min_j][k] - dist_matrix[min_i][min_j]) / 2 for k in range(n) if k != min_i and k != min_j]\n",
    "        new_dist_matrix = np.delete(dist_matrix, [min_i, min_j], axis=0)\n",
    "        new_dist_matrix = np.delete(new_dist_matrix, [min_i, min_j], axis=1)\n",
    "        new_dist_matrix = np.vstack((new_dist_matrix, new_row))\n",
    "        new_row.append(0)\n",
    "        new_dist_matrix = np.column_stack((new_dist_matrix, new_row))\n",
    "        \n",
    "        # Update the taxa list\n",
    "        new_taxa = taxa[:]\n",
    "        new_taxa.remove(taxa[min_i])\n",
    "        new_taxa.remove(taxa[min_j])\n",
    "        new_taxa.append(new_node)\n",
    "        \n",
    "        # Update the distance matrix and taxa list\n",
    "        dist_matrix = new_dist_matrix\n",
    "        taxa = new_taxa\n",
    "        \n",
    "    # Connect the final two nodes\n",
    "    tree[taxa[1]][taxa[0]] = dist_matrix[0, 1]\n",
    "    \n",
    "    return tree"
   ]
  }
 ],
 "metadata": {
  "kernelspec": {
   "display_name": "geoEnv",
   "language": "python",
   "name": "geoenv"
  },
  "language_info": {
   "codemirror_mode": {
    "name": "ipython",
    "version": 3
   },
   "file_extension": ".py",
   "mimetype": "text/x-python",
   "name": "python",
   "nbconvert_exporter": "python",
   "pygments_lexer": "ipython3",
   "version": "3.12.2"
  }
 },
 "nbformat": 4,
 "nbformat_minor": 5
}
